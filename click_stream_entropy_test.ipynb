{
 "cells": [
  {
   "cell_type": "code",
   "execution_count": 9,
   "metadata": {},
   "outputs": [],
   "source": [
    "import numpy as np\n",
    "import pandas as pd\n",
    "import matplotlib.pylab as plt\n",
    "%matplotlib inline"
   ]
  },
  {
   "cell_type": "code",
   "execution_count": 10,
   "metadata": {},
   "outputs": [],
   "source": [
    "def click_pb(d):\n",
    "    \"\"\"\n",
    "    click probability\n",
    "    :param d:\n",
    "    :return:\n",
    "    \"\"\"\n",
    "    d = d.as_matrix()\n",
    "    # print(len(d.shape))\n",
    "    if len(d.shape) != 1:\n",
    "        ValueError(\"1-d data input required!\")\n",
    "    nd = len(d)\n",
    "    uip, counts = np.unique(d, return_counts=True)\n",
    "\n",
    "    pb = np.zeros(uip.size)\n",
    "    for i in range(uip.size):\n",
    "        pb[i] = counts[i] #/nd\n",
    "\n",
    "    return pb, uip\n",
    "\n",
    "\n",
    "def entropy_measure(pb):\n",
    "    \"\"\"\n",
    "    standard entropy measure\n",
    "    :param pb:\n",
    "    :return:\n",
    "    \"\"\"\n",
    "    if len(pb.shape) != 1:\n",
    "        ValueError(\"1-d data input required!\")\n",
    "    npb = len(pb)\n",
    "\n",
    "    t = np.log2(pb)\n",
    "\n",
    "    return np.log2(npb) - np.sum(pb*np.log2(pb))/npb\n",
    "\n",
    "\n",
    "def nes(pb):\n",
    "    \"\"\"\n",
    "\tnew entropy score from the paper\n",
    "    :param pb:\n",
    "    :return:\n",
    "    \"\"\"\n",
    "    if len(pb.shape) != 1:\n",
    "        ValueError(\"1-d data input required!\")\n",
    "    npb = len(pb)\n",
    "\n",
    "    return 100.*(1. - np.sum(pb*np.log2(pb))/(npb*np.log2(npb)))\n"
   ]
  },
  {
   "cell_type": "markdown",
   "metadata": {},
   "source": [
    "## TEST NES AND ENTROPY METHODS FOR FRAUD DETECTION\n",
    "## THE TWO PLOTS BELOW SHOW THE RESULT FROM THE BOTH METHODS"
   ]
  },
  {
   "cell_type": "code",
   "execution_count": 17,
   "metadata": {},
   "outputs": [
    {
     "name": "stdout",
     "output_type": "stream",
     "text": [
      "orig data shape = (93206, 5)\n",
      "[1, 1, 1, 1, 1, 1, 1, 1, 1, 1, 1, 1, 1, 1, 1, 1, 1, 1, 1, 1, 1, 1, 1, 1, 1, 1, 1, 1, 1, 1, 1, 1, 1, 1, 1, 1, 1, 1, 1, 1, 1, 1, 1, 1, 1, 2, 2, 2, 2, 2, 2, 2, 2, 2, 2, 2, 2, 3, 3, 3, 3, 3, 3, 3, 4, 4, 5, 5, 5, 5, 5, 5, 5, 5, 6, 6, 6, 7, 8, 10, 10, 10, 12, 12, 16, 18, 19, 19, 19, 20, 21, 21, 21, 24, 30, 32, 36, 37, 38, 43, 45, 46, 66, 71, 77, 79, 83, 93, 100, 133, 142, 143, 152, 186, 194, 228, 270, 284, 326, 336, 386, 582, 589, 666, 1068, 1435, 2254, 2361, 2448, 2494, 8037, 12131, 55062]\n",
      "7020618.0\n",
      "6975753.0\n",
      "4312638.0\n",
      "5132926.0\n",
      "3734060.0\n",
      "6758117.0\n",
      "4663165.0\n",
      "6784353.0\n",
      "5044143.0\n",
      "6821584.0\n",
      "15033.0\n",
      "7019696.0\n",
      "7020353.0\n",
      "7020140.0\n",
      "6964282.0\n",
      "7020260.0\n",
      "7019690.0\n",
      "6837158.0\n",
      "7020277.0\n",
      "6944618.0\n",
      "7020601.0\n",
      "7016808.0\n",
      "6959878.0\n",
      "6340441.0\n"
     ]
    },
    {
     "name": "stderr",
     "output_type": "stream",
     "text": [
      "C:\\Users\\Intern\\AppData\\Local\\Continuum\\anaconda3\\lib\\site-packages\\ipykernel_launcher.py:7: FutureWarning: Method .as_matrix will be removed in a future version. Use .values instead.\n",
      "  import sys\n"
     ]
    },
    {
     "data": {
      "text/plain": [
       "Text(0.5,1,'red line -> threshold')"
      ]
     },
     "execution_count": 17,
     "metadata": {},
     "output_type": "execute_result"
    },
    {
     "data": {
      "image/png": "[encoded data removed]",
      "text/plain": [
       "<Figure size 432x288 with 1 Axes>"
      ]
     },
     "metadata": {},
     "output_type": "display_data"
    },
    {
     "data": {
      "image/png": "[encoded data removed]",
      "text/plain": [
       "<Figure size 432x288 with 1 Axes>"
      ]
     },
     "metadata": {},
     "output_type": "display_data"
    }
   ],
   "source": [
    "# Load data\n",
    "referrer_sub = pd.read_csv('referrer_sub.csv', sep=',')\n",
    "referrer_sub = referrer_sub.drop('Unnamed: 0', 1)\n",
    "\n",
    "print('orig data shape = ' + str(referrer_sub.shape))\n",
    "\n",
    "refID = referrer_sub['click_data_referrer_domain_id'].unique()\n",
    "\n",
    "refDic = {}\n",
    "for i in range(len(refID)):\n",
    "    refDic[refID[i]] = len(referrer_sub[referrer_sub['click_data_referrer_domain_id'] == refID[i]])\n",
    "\n",
    "print(sorted(refDic.values()))\n",
    "\n",
    "refSorted = sorted(refDic, key=refDic.__getitem__)\n",
    "type(refSorted)\n",
    "refSortedIdx = reversed(refSorted)\n",
    "\n",
    "entp = []\n",
    "score = []\n",
    "\n",
    "for i in reversed(refSorted):\n",
    "    if refDic[i] > 100:\n",
    "        print(i)\n",
    "\n",
    "        d2 = referrer_sub[referrer_sub['click_data_referrer_domain_id'] == i]\n",
    "        d2 = d2['click_data_ip_address']\n",
    "        pb, uip = click_pb(d2)\n",
    "        entp.append(entropy_measure(pb))\n",
    "        score.append(nes(pb))\n",
    "\n",
    "x = np.ones(len(entp))\n",
    "\n",
    "plt.figure(1)\n",
    "plt.scatter(x, entp)\n",
    "plt.ylabel(('Entropy'))\n",
    "\n",
    "plt.figure(2)\n",
    "plt.scatter(x, score)\n",
    "plt.plot([0.99, 1.01], [75, 75], 'red')\n",
    "plt.ylabel(('NES'))\n",
    "plt.title('red line -> threshold')"
   ]
  },
  {
   "cell_type": "code",
   "execution_count": null,
   "metadata": {},
   "outputs": [],
   "source": []
  }
 ],
 "metadata": {
  "kernelspec": {
   "display_name": "Python 3",
   "language": "python",
   "name": "python3"
  },
  "language_info": {
   "codemirror_mode": {
    "name": "ipython",
    "version": 3
   },
   "file_extension": ".py",
   "mimetype": "text/x-python",
   "name": "python",
   "nbconvert_exporter": "python",
   "pygments_lexer": "ipython3",
   "version": "3.6.5"
  }
 },
 "nbformat": 4,
 "nbformat_minor": 2
}
